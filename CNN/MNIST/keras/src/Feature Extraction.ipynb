{
 "cells": [
  {
   "cell_type": "markdown",
   "metadata": {},
   "source": [
    "### Understand extraction of features using convolution"
   ]
  },
  {
   "cell_type": "code",
   "execution_count": 1,
   "metadata": {},
   "outputs": [
    {
     "name": "stderr",
     "output_type": "stream",
     "text": [
      "Using TensorFlow backend.\n"
     ]
    }
   ],
   "source": [
    "import numpy as np\n",
    "import matplotlib.pyplot as plt\n",
    "from keras.datasets import mnist\n",
    "\n",
    "%matplotlib inline"
   ]
  },
  {
   "cell_type": "markdown",
   "metadata": {},
   "source": [
    "### Initialize Variables"
   ]
  },
  {
   "cell_type": "code",
   "execution_count": 2,
   "metadata": {},
   "outputs": [],
   "source": [
    "# Load pre-stored MNIST training and test data\n",
    "(x_train, y_train), (x_test, y_test) = mnist.load_data()"
   ]
  },
  {
   "cell_type": "code",
   "execution_count": 3,
   "metadata": {},
   "outputs": [],
   "source": [
    "# Initialize input and filter value\n",
    "# Play around with custom image and filter values to understand feature extraction better\n",
    "\n",
    "image = x_train[0]\n",
    "kernel = [[2,-1,-1],[-1,2,-1],[-1,-1,2]]\n",
    "\n",
    "# Custom image value\n",
    "#image = [[1,0,0,0,0],[1,1,0,0,0],[1,1,1,0,0],[1,1,1,1,0],[1,1,1,1,1]]"
   ]
  },
  {
   "cell_type": "code",
   "execution_count": 4,
   "metadata": {
    "collapsed": true
   },
   "outputs": [],
   "source": [
    "# Convert list (if true) to array\n",
    "image = np.asarray(image)\n",
    "kernel = np.asarray(kernel)"
   ]
  },
  {
   "cell_type": "code",
   "execution_count": 5,
   "metadata": {},
   "outputs": [],
   "source": [
    "# Initialzie array to hold convolution output\n",
    "# Array size depends on size of kernel and image to be convolved\n",
    "\n",
    "row_img, _ = np.shape(image)\n",
    "row_ker, _ = np.shape(kernel)\n",
    "\n",
    "# --------------------------------------\n",
    "\n",
    "row_conv = row_img - row_ker + 1\n",
    "conv_op = np.zeros(row_conv * row_conv)"
   ]
  },
  {
   "cell_type": "markdown",
   "metadata": {},
   "source": [
    "### Function - Convolution"
   ]
  },
  {
   "cell_type": "code",
   "execution_count": 6,
   "metadata": {},
   "outputs": [],
   "source": [
    "def convolution(conv_op, image, dim):\n",
    "    \n",
    "    count=0\n",
    "\n",
    "    for i in range(dim):\n",
    "\n",
    "        for j in range(dim):\n",
    "\n",
    "            conv_op[count] = (image[i][j]*kernel[0][0]) + (image[i][j+1]*kernel[0][1]) + (image[i][j+2]*kernel[0][2])+ \\\n",
    "                (image[i+1][j]*kernel[1][0]) +  (image[i+1][j+1]*kernel[1][1]) + (image[i+1][j+2]*kernel[1][2]) + \\\n",
    "                (image[i+2][j+1]*kernel[2][1]) + (image[i+2][j+1]*kernel[2][1]) + (image[i+2][j+2]*kernel[2][2])\n",
    "\n",
    "            if conv_op[count] >= 2:\n",
    "                conv_op[count] = 1\n",
    "            else:\n",
    "                conv_op[count] = 0\n",
    "\n",
    "            count += 1\n",
    "            \n",
    "    return conv_op"
   ]
  },
  {
   "cell_type": "markdown",
   "metadata": {},
   "source": [
    "### Function - Image Visualization"
   ]
  },
  {
   "cell_type": "code",
   "execution_count": 7,
   "metadata": {},
   "outputs": [],
   "source": [
    "def visualize(image, title, plot):\n",
    "    \n",
    "    dim = image.shape[0]\n",
    "    \n",
    "    plt.subplot(1, 3, plot)\n",
    "    plt.xticks([0,dim//2,dim-1])\n",
    "    plt.yticks([0,dim//2,dim-1])\n",
    "    plt.axis([0, dim-1, 0, dim-1])\n",
    "\n",
    "    plt.imshow(image, cmap='gray')\n",
    "    plt.title(title)\n",
    "    #plt.gca().invert_yaxis()"
   ]
  },
  {
   "cell_type": "markdown",
   "metadata": {},
   "source": [
    "### Perform Convolution"
   ]
  },
  {
   "cell_type": "code",
   "execution_count": 8,
   "metadata": {},
   "outputs": [],
   "source": [
    "conv_op = convolution(conv_op, image, row_conv)\n",
    "conv_op = np.reshape(conv_op,(row_conv,row_conv))"
   ]
  },
  {
   "cell_type": "markdown",
   "metadata": {},
   "source": [
    "### Visualize - Convolution"
   ]
  },
  {
   "cell_type": "code",
   "execution_count": 9,
   "metadata": {},
   "outputs": [
    {
     "data": {
      "image/png": "[encoded data removed]",
      "text/plain": [
       "<matplotlib.figure.Figure at 0x7f61aa0bba20>"
      ]
     },
     "metadata": {},
     "output_type": "display_data"
    }
   ],
   "source": [
    "fig = plt.figure(1, figsize=(5,5))\n",
    "fig.text(0.3, 0.85, \"Convolution - Feature Extraction\", size = \"xx-large\")\n",
    "fig.subplots_adjust(left=0.125, bottom=0.1, right=1.25, top=1.1,\\\n",
    "                    hspace = 2, wspace=1)\n",
    "\n",
    "# ---------------------------------------------------------------------\n",
    "\n",
    "visualize(image, \"Input\", 1)\n",
    "visualize(kernel, \"Filter\", 2)\n",
    "visualize(conv_op, \"Output\", 3)"
   ]
  }
 ],
 "metadata": {
  "kernelspec": {
   "display_name": "Python 3",
   "language": "python",
   "name": "python3"
  },
  "language_info": {
   "codemirror_mode": {
    "name": "ipython",
    "version": 3
   },
   "file_extension": ".py",
   "mimetype": "text/x-python",
   "name": "python",
   "nbconvert_exporter": "python",
   "pygments_lexer": "ipython3",
   "version": "3.6.1"
  }
 },
 "nbformat": 4,
 "nbformat_minor": 2
}
