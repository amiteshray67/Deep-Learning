{
 "cells": [
  {
   "cell_type": "markdown",
   "metadata": {},
   "source": [
    "### Improve accuracy above 0.98398 on simplified MNIST classification - ONLY digits 2 and 7"
   ]
  },
  {
   "cell_type": "code",
   "execution_count": 1,
   "metadata": {},
   "outputs": [
    {
     "name": "stderr",
     "output_type": "stream",
     "text": [
      "/opt/conda/lib/python3.6/site-packages/IPython/html.py:14: ShimWarning: The `IPython.html` package has been deprecated since IPython 4.0. You should import from `notebook` instead. `IPython.html.widgets` has moved to `ipywidgets`.\n",
      "  \"`IPython.html.widgets` has moved to `ipywidgets`.\", ShimWarning)\n",
      "Using TensorFlow backend.\n"
     ]
    }
   ],
   "source": [
    "import math\n",
    "import numpy as np\n",
    "\n",
    "# -------------------------------------------------------\n",
    "\n",
    "import pandas as pd\n",
    "import seaborn as sns\n",
    "import matplotlib.pyplot as plt\n",
    "\n",
    "# -------------------------------------------------------\n",
    "\n",
    "import keras\n",
    "import tensorflow as tf\n",
    "from keras import backend as K\n",
    "from keras.datasets import mnist\n",
    "from keras.models import Sequential\n",
    "from keras.layers import Conv2D, MaxPooling2D\n",
    "from keras.layers import Dense, Dropout, Flatten\n",
    "\n",
    "# --------------------------------------------------------\n",
    "\n",
    "from sklearn.model_selection import GridSearchCV\n",
    "from keras.wrappers.scikit_learn import KerasClassifier"
   ]
  },
  {
   "cell_type": "markdown",
   "metadata": {},
   "source": [
    "### Initialize - Convnet Variables"
   ]
  },
  {
   "cell_type": "code",
   "execution_count": 2,
   "metadata": {
    "collapsed": true
   },
   "outputs": [],
   "source": [
    "# Initialize Convnet Parameters\n",
    "\n",
    "nb_epoch = 12\n",
    "num_classes = 2\n",
    "batch_size = 128\n",
    "img_rows, img_cols = 28, 28"
   ]
  },
  {
   "cell_type": "code",
   "execution_count": 3,
   "metadata": {},
   "outputs": [],
   "source": [
    "# Load pre-stored MNIST training and test data\n",
    "(x_train, y_train), (x_test, y_test) = mnist.load_data()\n",
    "\n",
    "# Find training and test data corresponding to 2s and 7s\n",
    "train_picks = np.logical_or(y_train==2,y_train==7)\n",
    "test_picks = np.logical_or(y_test==2,y_test==7)\n",
    "\n",
    "# Initialize training and test data corresponding to 2s and 7s\n",
    "\n",
    "x_train = x_train[train_picks]\n",
    "x_test = x_test[test_picks]\n",
    "\n",
    "y_train = np.array(y_train[train_picks]==7,dtype=int)\n",
    "y_test = np.array(y_test[test_picks]==7,dtype=int)"
   ]
  },
  {
   "cell_type": "markdown",
   "metadata": {},
   "source": [
    "### Data Samples - Visualize"
   ]
  },
  {
   "cell_type": "code",
   "execution_count": 4,
   "metadata": {
    "collapsed": true
   },
   "outputs": [],
   "source": [
    "%matplotlib inline\n",
    "sns.set(style=\"ticks\")"
   ]
  },
  {
   "cell_type": "code",
   "execution_count": 5,
   "metadata": {},
   "outputs": [
    {
     "data": {
      "text/plain": [
       "<matplotlib.text.Text at 0x7ff671619e80>"
      ]
     },
     "execution_count": 5,
     "metadata": {},
     "output_type": "execute_result"
    },
    {
     "data": {
      "image/png": "[encoded data removed]",
      "text/plain": [
       "<matplotlib.figure.Figure at 0x7ff6716195c0>"
      ]
     },
     "metadata": {},
     "output_type": "display_data"
    }
   ],
   "source": [
    "# Visualize few samples of random training data corresponding to 2 and 7\n",
    "\n",
    "img_num = 9\n",
    "img_row = 3\n",
    "img_size = x_train.shape[1]\n",
    "fig = plt.figure(1, figsize=(3.5,3.5))\n",
    "fig.subplots_adjust(left=0.125, bottom=0.1, right=1.25, top=1.1,\\\n",
    "                    wspace=0.4,hspace=0.85)\n",
    "\n",
    "for i in range(9):\n",
    "    \n",
    "    plt.subplot(img_row, img_row, i+1)\n",
    "    plt.title('Image ' + str(i))\n",
    "    plt.imshow(x_train[i], interpolation=\"nearest\", cmap=\"gray\")        \n",
    "    plt.axis([0, img_size-1, 0, img_size-1])\n",
    "    plt.xticks([0,img_size//2,img_size-1])\n",
    "    plt.gca().invert_yaxis()\n",
    "\n",
    "fig.text(0.3, 1.25, \"Random Training Data Set Images\")"
   ]
  },
  {
   "cell_type": "markdown",
   "metadata": {},
   "source": [
    "### Data Samples - Pre-process "
   ]
  },
  {
   "cell_type": "code",
   "execution_count": 6,
   "metadata": {
    "collapsed": true
   },
   "outputs": [],
   "source": [
    "# Convert test and training data to Tensor\n",
    "\n",
    "if K.image_data_format() == 'channels_first':\n",
    "    x_train = x_train.reshape(x_train.shape[0], 1, img_rows, img_cols)\n",
    "    x_test = x_test.reshape(x_test.shape[0], 1, img_rows, img_cols)\n",
    "    input_shape = (1, img_rows, img_cols)\n",
    "else:\n",
    "    x_train = x_train.reshape(x_train.shape[0], img_rows, img_cols, 1)\n",
    "    x_test = x_test.reshape(x_test.shape[0], img_rows, img_cols, 1)\n",
    "    input_shape = (img_rows, img_cols, 1)"
   ]
  },
  {
   "cell_type": "code",
   "execution_count": 7,
   "metadata": {
    "collapsed": true
   },
   "outputs": [],
   "source": [
    "# Normalize test and training data\n",
    "x_train = x_train.astype('float32')\n",
    "x_test = x_test.astype('float32')\n",
    "\n",
    "x_train /= 255\n",
    "x_test /= 255"
   ]
  },
  {
   "cell_type": "code",
   "execution_count": 8,
   "metadata": {},
   "outputs": [
    {
     "name": "stdout",
     "output_type": "stream",
     "text": [
      "x_train shape: (12223, 28, 28, 1)\n",
      "12223 train samples\n",
      "2060 test samples\n"
     ]
    }
   ],
   "source": [
    "print('x_train shape:', x_train.shape)\n",
    "print(x_train.shape[0], 'train samples')\n",
    "print(x_test.shape[0], 'test samples')"
   ]
  },
  {
   "cell_type": "code",
   "execution_count": 9,
   "metadata": {
    "collapsed": true
   },
   "outputs": [],
   "source": [
    "# Convert class vectors to binary class matrices\n",
    "y_train = keras.utils.to_categorical(y_train, num_classes)\n",
    "y_test = keras.utils.to_categorical(y_test, num_classes)"
   ]
  },
  {
   "cell_type": "markdown",
   "metadata": {},
   "source": [
    "### Convnet Architecture"
   ]
  },
  {
   "cell_type": "code",
   "execution_count": 10,
   "metadata": {
    "collapsed": true
   },
   "outputs": [],
   "source": [
    "def create_model(dense_layer_sizes, kernel_size, dropout):\n",
    "    \n",
    "    model = Sequential()\n",
    "    \n",
    "    model.add(Conv2D(8, kernel_size, activation='relu', name='conv_1', input_shape=input_shape))\n",
    "    model.add(MaxPooling2D(pool_size = 2, name='pool_1'))\n",
    "\n",
    "    model.add(Conv2D(32, kernel_size, activation='relu',name='conv_2'))\n",
    "    model.add(MaxPooling2D(pool_size = 2, name='pool_2'))\n",
    "    \n",
    "    model.add(Dropout(dropout))\n",
    "    model.add(Flatten())\n",
    "    \n",
    "    for layer_size in dense_layer_sizes:\n",
    "        model.add(Dense(layer_size, activation='relu', name='FC_1'))\n",
    "              \n",
    "    model.add(Dropout(dropout))    \n",
    "    model.add(Dense(2, activation='softmax', name='output_layer'))\n",
    "    \n",
    "    model.compile(loss='categorical_crossentropy',\n",
    "                  optimizer='adadelta',\n",
    "                  metrics=['accuracy'])\n",
    "    \n",
    "    return model"
   ]
  },
  {
   "cell_type": "markdown",
   "metadata": {},
   "source": [
    "### Grid Search - Training"
   ]
  },
  {
   "cell_type": "code",
   "execution_count": 11,
   "metadata": {
    "collapsed": true
   },
   "outputs": [],
   "source": [
    "# Initialize hyper-parameters of convnet architecture\n",
    "\n",
    "param_grid={\n",
    "            'dense_layer_sizes': [[64]],\n",
    "            'dropout':[0, 0.1, 0.2],\n",
    "            'kernel_size': [3,5]\n",
    "            }"
   ]
  },
  {
   "cell_type": "code",
   "execution_count": 12,
   "metadata": {
    "collapsed": true
   },
   "outputs": [],
   "source": [
    "# Initialize convnet model\n",
    "my_classifier = KerasClassifier(create_model, batch_size=32, epochs=12, verbose=0)\n",
    "\n",
    "\n",
    "# Initialize grid search model to find best combination of hyper-parameters\n",
    "grid_search_calc = GridSearchCV(my_classifier,\n",
    "                         param_grid=param_grid,\n",
    "                         n_jobs=-1, verbose=4)"
   ]
  },
  {
   "cell_type": "code",
   "execution_count": 13,
   "metadata": {
    "scrolled": true
   },
   "outputs": [
    {
     "name": "stdout",
     "output_type": "stream",
     "text": [
      "Fitting 3 folds for each of 6 candidates, totalling 18 fits\n",
      "[CV] dense_layer_sizes=[64], dropout=0, kernel_size=3 ................\n",
      "[CV] dense_layer_sizes=[64], dropout=0, kernel_size=3 ................\n",
      "[CV] dense_layer_sizes=[64], dropout=0, kernel_size=3 ................\n",
      "[CV] dense_layer_sizes=[64], dropout=0, kernel_size=5 ................\n",
      "[CV]  dense_layer_sizes=[64], dropout=0, kernel_size=3, score=0.993864, total= 2.4min\n",
      "[CV] dense_layer_sizes=[64], dropout=0, kernel_size=5 ................\n",
      "[CV]  dense_layer_sizes=[64], dropout=0, kernel_size=3, score=0.994109, total= 2.4min\n",
      "[CV] dense_layer_sizes=[64], dropout=0, kernel_size=5 ................\n",
      "[CV]  dense_layer_sizes=[64], dropout=0, kernel_size=3, score=0.995092, total= 2.5min\n",
      "[CV] dense_layer_sizes=[64], dropout=0.1, kernel_size=3 ..............\n",
      "[CV]  dense_layer_sizes=[64], dropout=0, kernel_size=5, score=0.997055, total= 3.0min\n",
      "[CV] dense_layer_sizes=[64], dropout=0.1, kernel_size=3 ..............\n",
      "[CV]  dense_layer_sizes=[64], dropout=0.1, kernel_size=3, score=0.994110, total= 2.8min\n",
      "[CV] dense_layer_sizes=[64], dropout=0.1, kernel_size=3 ..............\n",
      "[CV]  dense_layer_sizes=[64], dropout=0, kernel_size=5, score=0.993864, total= 3.4min\n",
      "[CV] dense_layer_sizes=[64], dropout=0.1, kernel_size=5 ..............\n",
      "[CV]  dense_layer_sizes=[64], dropout=0, kernel_size=5, score=0.995336, total= 3.3min\n",
      "[CV] dense_layer_sizes=[64], dropout=0.1, kernel_size=5 ..............\n",
      "[CV]  dense_layer_sizes=[64], dropout=0.1, kernel_size=3, score=0.992882, total= 2.9min\n",
      "[CV] dense_layer_sizes=[64], dropout=0.1, kernel_size=5 ..............\n",
      "[CV]  dense_layer_sizes=[64], dropout=0.1, kernel_size=3, score=0.994354, total= 2.7min\n",
      "[CV] dense_layer_sizes=[64], dropout=0.2, kernel_size=3 ..............\n",
      "[CV]  dense_layer_sizes=[64], dropout=0.1, kernel_size=5, score=0.996810, total= 3.3min\n",
      "[CV] dense_layer_sizes=[64], dropout=0.2, kernel_size=3 ..............\n",
      "[CV]  dense_layer_sizes=[64], dropout=0.1, kernel_size=5, score=0.993127, total= 3.3min\n",
      "[CV] dense_layer_sizes=[64], dropout=0.2, kernel_size=3 ..............\n",
      "[CV]  dense_layer_sizes=[64], dropout=0.1, kernel_size=5, score=0.995336, total= 3.3min\n",
      "[CV] dense_layer_sizes=[64], dropout=0.2, kernel_size=5 ..............\n",
      "[CV]  dense_layer_sizes=[64], dropout=0.2, kernel_size=3, score=0.994601, total= 2.7min\n",
      "[CV] dense_layer_sizes=[64], dropout=0.2, kernel_size=5 ..............\n",
      "[CV]  dense_layer_sizes=[64], dropout=0.2, kernel_size=3, score=0.992636, total= 2.6min\n",
      "[CV] dense_layer_sizes=[64], dropout=0.2, kernel_size=5 ..............\n",
      "[CV]  dense_layer_sizes=[64], dropout=0.2, kernel_size=3, score=0.993373, total= 2.6min\n",
      "[CV]  dense_layer_sizes=[64], dropout=0.2, kernel_size=5, score=0.995583, total= 3.1min\n"
     ]
    },
    {
     "name": "stderr",
     "output_type": "stream",
     "text": [
      "[Parallel(n_jobs=-1)]: Done  16 out of  18 | elapsed: 12.6min remaining:  1.6min\n"
     ]
    },
    {
     "name": "stdout",
     "output_type": "stream",
     "text": [
      "[CV]  dense_layer_sizes=[64], dropout=0.2, kernel_size=5, score=0.993373, total= 2.2min\n",
      "[CV]  dense_layer_sizes=[64], dropout=0.2, kernel_size=5, score=0.995336, total= 1.7min\n"
     ]
    },
    {
     "name": "stderr",
     "output_type": "stream",
     "text": [
      "[Parallel(n_jobs=-1)]: Done  18 out of  18 | elapsed: 13.7min finished\n"
     ]
    },
    {
     "data": {
      "text/plain": [
       "GridSearchCV(cv=None, error_score='raise',\n",
       "       estimator=<keras.wrappers.scikit_learn.KerasClassifier object at 0x7ff66f026668>,\n",
       "       fit_params={}, iid=True, n_jobs=-1,\n",
       "       param_grid={'dense_layer_sizes': [[64]], 'dropout': [0, 0.1, 0.2], 'kernel_size': [3, 5]},\n",
       "       pre_dispatch='2*n_jobs', refit=True, return_train_score=True,\n",
       "       scoring=None, verbose=4)"
      ]
     },
     "execution_count": 13,
     "metadata": {},
     "output_type": "execute_result"
    }
   ],
   "source": [
    "# Train convnet model using grid search hyper-parameters\n",
    "grid_search_calc.fit(x_train, y_train)"
   ]
  },
  {
   "cell_type": "markdown",
   "metadata": {},
   "source": [
    "### Grid Search - Visualization "
   ]
  },
  {
   "cell_type": "code",
   "execution_count": 14,
   "metadata": {},
   "outputs": [
    {
     "data": {
      "text/html": [
       "<div>\n",
       "<style>\n",
       "    .dataframe thead tr:only-child th {\n",
       "        text-align: right;\n",
       "    }\n",
       "\n",
       "    .dataframe thead th {\n",
       "        text-align: left;\n",
       "    }\n",
       "\n",
       "    .dataframe tbody tr th {\n",
       "        vertical-align: top;\n",
       "    }\n",
       "</style>\n",
       "<table border=\"1\" class=\"dataframe\">\n",
       "  <thead>\n",
       "    <tr style=\"text-align: right;\">\n",
       "      <th></th>\n",
       "      <th>mean_fit_time</th>\n",
       "      <th>mean_score_time</th>\n",
       "      <th>mean_test_score</th>\n",
       "      <th>mean_train_score</th>\n",
       "      <th>param_dense_layer_sizes</th>\n",
       "      <th>param_dropout</th>\n",
       "      <th>param_kernel_size</th>\n",
       "      <th>params</th>\n",
       "      <th>rank_test_score</th>\n",
       "      <th>split0_test_score</th>\n",
       "      <th>split0_train_score</th>\n",
       "      <th>split1_test_score</th>\n",
       "      <th>split1_train_score</th>\n",
       "      <th>split2_test_score</th>\n",
       "      <th>split2_train_score</th>\n",
       "      <th>std_fit_time</th>\n",
       "      <th>std_score_time</th>\n",
       "      <th>std_test_score</th>\n",
       "      <th>std_train_score</th>\n",
       "    </tr>\n",
       "  </thead>\n",
       "  <tbody>\n",
       "    <tr>\n",
       "      <th>0</th>\n",
       "      <td>142.215035</td>\n",
       "      <td>2.968649</td>\n",
       "      <td>0.994355</td>\n",
       "      <td>0.997177</td>\n",
       "      <td>[64]</td>\n",
       "      <td>0</td>\n",
       "      <td>3</td>\n",
       "      <td>{'dense_layer_sizes': [64], 'dropout': 0, 'ker...</td>\n",
       "      <td>4</td>\n",
       "      <td>0.995092</td>\n",
       "      <td>0.996318</td>\n",
       "      <td>0.993864</td>\n",
       "      <td>0.997791</td>\n",
       "      <td>0.994109</td>\n",
       "      <td>0.997423</td>\n",
       "      <td>1.558060</td>\n",
       "      <td>0.204389</td>\n",
       "      <td>0.000531</td>\n",
       "      <td>0.000626</td>\n",
       "    </tr>\n",
       "    <tr>\n",
       "      <th>1</th>\n",
       "      <td>189.447193</td>\n",
       "      <td>4.062191</td>\n",
       "      <td>0.995418</td>\n",
       "      <td>0.998077</td>\n",
       "      <td>[64]</td>\n",
       "      <td>0</td>\n",
       "      <td>5</td>\n",
       "      <td>{'dense_layer_sizes': [64], 'dropout': 0, 'ker...</td>\n",
       "      <td>1</td>\n",
       "      <td>0.997055</td>\n",
       "      <td>0.997668</td>\n",
       "      <td>0.993864</td>\n",
       "      <td>0.998650</td>\n",
       "      <td>0.995336</td>\n",
       "      <td>0.997914</td>\n",
       "      <td>9.486115</td>\n",
       "      <td>0.842561</td>\n",
       "      <td>0.001304</td>\n",
       "      <td>0.000417</td>\n",
       "    </tr>\n",
       "    <tr>\n",
       "      <th>2</th>\n",
       "      <td>167.677652</td>\n",
       "      <td>2.439427</td>\n",
       "      <td>0.993782</td>\n",
       "      <td>0.996073</td>\n",
       "      <td>[64]</td>\n",
       "      <td>0.1</td>\n",
       "      <td>3</td>\n",
       "      <td>{'dense_layer_sizes': [64], 'dropout': 0.1, 'k...</td>\n",
       "      <td>5</td>\n",
       "      <td>0.994110</td>\n",
       "      <td>0.995827</td>\n",
       "      <td>0.992882</td>\n",
       "      <td>0.996319</td>\n",
       "      <td>0.994354</td>\n",
       "      <td>0.996073</td>\n",
       "      <td>4.713889</td>\n",
       "      <td>0.054366</td>\n",
       "      <td>0.000644</td>\n",
       "      <td>0.000201</td>\n",
       "    </tr>\n",
       "    <tr>\n",
       "      <th>3</th>\n",
       "      <td>192.645233</td>\n",
       "      <td>3.494883</td>\n",
       "      <td>0.995091</td>\n",
       "      <td>0.997055</td>\n",
       "      <td>[64]</td>\n",
       "      <td>0.1</td>\n",
       "      <td>5</td>\n",
       "      <td>{'dense_layer_sizes': [64], 'dropout': 0.1, 'k...</td>\n",
       "      <td>2</td>\n",
       "      <td>0.996810</td>\n",
       "      <td>0.997054</td>\n",
       "      <td>0.993127</td>\n",
       "      <td>0.996932</td>\n",
       "      <td>0.995336</td>\n",
       "      <td>0.997178</td>\n",
       "      <td>0.681188</td>\n",
       "      <td>0.419691</td>\n",
       "      <td>0.001513</td>\n",
       "      <td>0.000100</td>\n",
       "    </tr>\n",
       "    <tr>\n",
       "      <th>4</th>\n",
       "      <td>157.020991</td>\n",
       "      <td>2.668001</td>\n",
       "      <td>0.993537</td>\n",
       "      <td>0.996237</td>\n",
       "      <td>[64]</td>\n",
       "      <td>0.2</td>\n",
       "      <td>3</td>\n",
       "      <td>{'dense_layer_sizes': [64], 'dropout': 0.2, 'k...</td>\n",
       "      <td>6</td>\n",
       "      <td>0.994601</td>\n",
       "      <td>0.996318</td>\n",
       "      <td>0.992636</td>\n",
       "      <td>0.996073</td>\n",
       "      <td>0.993373</td>\n",
       "      <td>0.996319</td>\n",
       "      <td>2.018807</td>\n",
       "      <td>0.150180</td>\n",
       "      <td>0.000811</td>\n",
       "      <td>0.000116</td>\n",
       "    </tr>\n",
       "    <tr>\n",
       "      <th>5</th>\n",
       "      <td>137.460903</td>\n",
       "      <td>1.745984</td>\n",
       "      <td>0.994764</td>\n",
       "      <td>0.997096</td>\n",
       "      <td>[64]</td>\n",
       "      <td>0.2</td>\n",
       "      <td>5</td>\n",
       "      <td>{'dense_layer_sizes': [64], 'dropout': 0.2, 'k...</td>\n",
       "      <td>3</td>\n",
       "      <td>0.995583</td>\n",
       "      <td>0.996932</td>\n",
       "      <td>0.993373</td>\n",
       "      <td>0.997178</td>\n",
       "      <td>0.995336</td>\n",
       "      <td>0.997178</td>\n",
       "      <td>33.686120</td>\n",
       "      <td>0.493211</td>\n",
       "      <td>0.000989</td>\n",
       "      <td>0.000116</td>\n",
       "    </tr>\n",
       "  </tbody>\n",
       "</table>\n",
       "</div>"
      ],
      "text/plain": [
       "   mean_fit_time  mean_score_time  mean_test_score  mean_train_score  \\\n",
       "0     142.215035         2.968649         0.994355          0.997177   \n",
       "1     189.447193         4.062191         0.995418          0.998077   \n",
       "2     167.677652         2.439427         0.993782          0.996073   \n",
       "3     192.645233         3.494883         0.995091          0.997055   \n",
       "4     157.020991         2.668001         0.993537          0.996237   \n",
       "5     137.460903         1.745984         0.994764          0.997096   \n",
       "\n",
       "  param_dense_layer_sizes param_dropout param_kernel_size  \\\n",
       "0                    [64]             0                 3   \n",
       "1                    [64]             0                 5   \n",
       "2                    [64]           0.1                 3   \n",
       "3                    [64]           0.1                 5   \n",
       "4                    [64]           0.2                 3   \n",
       "5                    [64]           0.2                 5   \n",
       "\n",
       "                                              params  rank_test_score  \\\n",
       "0  {'dense_layer_sizes': [64], 'dropout': 0, 'ker...                4   \n",
       "1  {'dense_layer_sizes': [64], 'dropout': 0, 'ker...                1   \n",
       "2  {'dense_layer_sizes': [64], 'dropout': 0.1, 'k...                5   \n",
       "3  {'dense_layer_sizes': [64], 'dropout': 0.1, 'k...                2   \n",
       "4  {'dense_layer_sizes': [64], 'dropout': 0.2, 'k...                6   \n",
       "5  {'dense_layer_sizes': [64], 'dropout': 0.2, 'k...                3   \n",
       "\n",
       "   split0_test_score  split0_train_score  split1_test_score  \\\n",
       "0           0.995092            0.996318           0.993864   \n",
       "1           0.997055            0.997668           0.993864   \n",
       "2           0.994110            0.995827           0.992882   \n",
       "3           0.996810            0.997054           0.993127   \n",
       "4           0.994601            0.996318           0.992636   \n",
       "5           0.995583            0.996932           0.993373   \n",
       "\n",
       "   split1_train_score  split2_test_score  split2_train_score  std_fit_time  \\\n",
       "0            0.997791           0.994109            0.997423      1.558060   \n",
       "1            0.998650           0.995336            0.997914      9.486115   \n",
       "2            0.996319           0.994354            0.996073      4.713889   \n",
       "3            0.996932           0.995336            0.997178      0.681188   \n",
       "4            0.996073           0.993373            0.996319      2.018807   \n",
       "5            0.997178           0.995336            0.997178     33.686120   \n",
       "\n",
       "   std_score_time  std_test_score  std_train_score  \n",
       "0        0.204389        0.000531         0.000626  \n",
       "1        0.842561        0.001304         0.000417  \n",
       "2        0.054366        0.000644         0.000201  \n",
       "3        0.419691        0.001513         0.000100  \n",
       "4        0.150180        0.000811         0.000116  \n",
       "5        0.493211        0.000989         0.000116  "
      ]
     },
     "execution_count": 14,
     "metadata": {},
     "output_type": "execute_result"
    }
   ],
   "source": [
    "# Diplay results of grid search\n",
    "grid_search_results = pd.DataFrame(grid_search_calc.cv_results_)\n",
    "grid_search_results"
   ]
  },
  {
   "cell_type": "code",
   "execution_count": 15,
   "metadata": {
    "collapsed": true
   },
   "outputs": [],
   "source": [
    "# Function to plot test/training accuracy of grid search\n",
    "   \n",
    "def plot_accuracy(mean_score, acc_type):\n",
    "    \n",
    "    graph_train = sns.factorplot(x=\"param_dropout\", y=mean_score, col=\"param_kernel_size\", \\\n",
    "                   data=grid_search_results, saturation=5, \\\n",
    "                   kind=\"bar\", ci=None, aspect=.7);\n",
    "\n",
    "    (graph_train.set_axis_labels(\"Dropout\", acc_type)\n",
    "               .set_xticklabels([\"0\", \"0.1\", \"0.2\"])\n",
    "               .set_titles(\"Filter: {col_name} * {col_name} \")\n",
    "               .set(ylim=(0.992, .998))\n",
    "               .despine(left=True))"
   ]
  },
  {
   "cell_type": "code",
   "execution_count": 16,
   "metadata": {},
   "outputs": [
    {
     "data": {
      "image/png": "[encoded data removed]",
      "text/plain": [
       "<matplotlib.figure.Figure at 0x7ff669a33048>"
      ]
     },
     "metadata": {},
     "output_type": "display_data"
    }
   ],
   "source": [
    "# Plot training accuracy for different combination of hyper-parameters\n",
    "plot_accuracy(\"mean_train_score\", \"Train Accuracy\")"
   ]
  },
  {
   "cell_type": "code",
   "execution_count": 17,
   "metadata": {},
   "outputs": [
    {
     "data": {
      "image/png": "[encoded data removed]",
      "text/plain": [
       "<matplotlib.figure.Figure at 0x7ff669abe0b8>"
      ]
     },
     "metadata": {},
     "output_type": "display_data"
    }
   ],
   "source": [
    "# Plot test accuracy for different combination of hyper-parameters\n",
    "plot_accuracy(\"mean_test_score\", \"Test Accuracy\")"
   ]
  },
  {
   "cell_type": "markdown",
   "metadata": {},
   "source": [
    "### Grid Search - Best Model"
   ]
  },
  {
   "cell_type": "code",
   "execution_count": 18,
   "metadata": {},
   "outputs": [
    {
     "name": "stdout",
     "output_type": "stream",
     "text": [
      "The parameters of the best model are: \n",
      "{'dense_layer_sizes': [64], 'dropout': 0, 'kernel_size': 5}\n"
     ]
    }
   ],
   "source": [
    "# Display best combination Of hyper-parameters found using grid search\n",
    "print('The parameters of the best model are: ')\n",
    "print(grid_search_calc.best_params_)"
   ]
  },
  {
   "cell_type": "code",
   "execution_count": 19,
   "metadata": {},
   "outputs": [
    {
     "name": "stdout",
     "output_type": "stream",
     "text": [
      "2016/2060 [============================>.] - ETA: 0sloss :  0.0166401620436\n",
      "acc :  0.994174757282\n"
     ]
    }
   ],
   "source": [
    "# Print test accuracy of best model\n",
    "# Save best model found during grid search\n",
    "# Reference - http://scikit-learn.org/stable/modules/generated/sklearn.model_selection.GridSearchCV.html\n",
    "\n",
    "best_model = grid_search_calc.best_estimator_.model\n",
    "\n",
    "metric_names = best_model.metrics_names\n",
    "metric_values = best_model.evaluate(x_test, y_test)\n",
    "\n",
    "for metric, value in zip(metric_names, metric_values):\n",
    "    print(metric, ': ', value)"
   ]
  },
  {
   "cell_type": "code",
   "execution_count": 20,
   "metadata": {},
   "outputs": [
    {
     "name": "stdout",
     "output_type": "stream",
     "text": [
      "_________________________________________________________________\n",
      "Layer (type)                 Output Shape              Param #   \n",
      "=================================================================\n",
      "conv_1 (Conv2D)              (None, 24, 24, 8)         208       \n",
      "_________________________________________________________________\n",
      "pool_1 (MaxPooling2D)        (None, 12, 12, 8)         0         \n",
      "_________________________________________________________________\n",
      "conv_2 (Conv2D)              (None, 8, 8, 32)          6432      \n",
      "_________________________________________________________________\n",
      "pool_2 (MaxPooling2D)        (None, 4, 4, 32)          0         \n",
      "_________________________________________________________________\n",
      "dropout_1 (Dropout)          (None, 4, 4, 32)          0         \n",
      "_________________________________________________________________\n",
      "flatten_1 (Flatten)          (None, 512)               0         \n",
      "_________________________________________________________________\n",
      "FC_1 (Dense)                 (None, 64)                32832     \n",
      "_________________________________________________________________\n",
      "dropout_2 (Dropout)          (None, 64)                0         \n",
      "_________________________________________________________________\n",
      "output_layer (Dense)         (None, 2)                 130       \n",
      "=================================================================\n",
      "Total params: 39,602\n",
      "Trainable params: 39,602\n",
      "Non-trainable params: 0\n",
      "_________________________________________________________________\n"
     ]
    }
   ],
   "source": [
    "# Display architecture of best convet model found using grid search\n",
    "best_model.summary()"
   ]
  },
  {
   "cell_type": "markdown",
   "metadata": {},
   "source": [
    "### Best Model - Load and Save "
   ]
  },
  {
   "cell_type": "code",
   "execution_count": 21,
   "metadata": {},
   "outputs": [
    {
     "data": {
      "text/plain": [
       "\"\\n\\n    from keras.models import load_model\\n\\n    # Save Best Model\\n    best_model.save('best_model.h5')\\n\\n    # Delete Existing Model\\n    del best_model  \\n\\n    # Returns Compiled Model\\n    model = load_model('best_model.h5')\\n\\n    # Install HDF5 and h5py to visualize stored results\\n    model.save_weights('my_model_weights.h5')\\n    model.load_weights('my_model_weights.h5')\\n\\n\""
      ]
     },
     "execution_count": 21,
     "metadata": {},
     "output_type": "execute_result"
    }
   ],
   "source": [
    "# Code to save, load and visualize results of grid search in a file\n",
    "\n",
    "\"\"\"\n",
    "\n",
    "    from keras.models import load_model\n",
    "\n",
    "    # Save Best Model\n",
    "    best_model.save('best_model.h5')\n",
    "\n",
    "    # Delete Existing Model\n",
    "    del best_model  \n",
    "\n",
    "    # Returns Compiled Model\n",
    "    model = load_model('best_model.h5')\n",
    "\n",
    "    # Install HDF5 and h5py to visualize stored results\n",
    "    model.save_weights('my_model_weights.h5')\n",
    "    model.load_weights('my_model_weights.h5')\n",
    "\n",
    "\"\"\""
   ]
  },
  {
   "cell_type": "markdown",
   "metadata": {},
   "source": [
    "### Best Model - Visualize Output"
   ]
  },
  {
   "cell_type": "code",
   "execution_count": 22,
   "metadata": {
    "collapsed": true
   },
   "outputs": [],
   "source": [
    "# Function to extract convolution output using Keras in-built function  \n",
    "\n",
    "def get_conv_output(model, input_layer, output_layer):\n",
    "    \n",
    "    # K.function converts tensor to array    \n",
    "    get_layer_output = K.function([model.layers[input_layer].input],\n",
    "                                  [model.layers[output_layer].output])\n",
    "\n",
    "    return get_layer_output([x_train])[0]"
   ]
  },
  {
   "cell_type": "code",
   "execution_count": 23,
   "metadata": {
    "collapsed": true
   },
   "outputs": [],
   "source": [
    "# Function to convert weights in form of tensor to array with help of keras + tensorflow \n",
    "\n",
    "def get_weight_output(model, input_layer, ignore):\n",
    "    \n",
    "    # Initialize Session \n",
    "    sess = tf.InteractiveSession()\n",
    "    K.set_session(sess)\n",
    "    \n",
    "    # Initialize Variables in Session\n",
    "    tf.global_variables_initializer().run()\n",
    "    \n",
    "    # Extract weight values of i/p layer\n",
    "    weight = model.layers[input_layer].weights[0]\n",
    "    \n",
    "    # Convert weight value in tensor form to array\n",
    "    weight = sess.run(weight)\n",
    "   \n",
    "    # Ignore dimension of tensor having only 1 value\n",
    "    if ignore == True:\n",
    "        weight = np.squeeze(weight, axis=None)\n",
    "    \n",
    "    return weight"
   ]
  },
  {
   "cell_type": "code",
   "execution_count": 24,
   "metadata": {
    "collapsed": true
   },
   "outputs": [],
   "source": [
    "# Function to visualize output of convolution layer\n",
    "\n",
    "def visualize_convolution_output(conv_output, layer_num):\n",
    "    \n",
    "    filter_size = conv_output.shape[1]\n",
    "    filter_count = conv_output.shape[-1]\n",
    "    dim = math.ceil(math.sqrt(filter_count))\n",
    "\n",
    "    fig = plt.figure(1, figsize=(dim,dim))\n",
    "    fig.subplots_adjust(left=0.125, bottom=0.1, right=1.25, top=1.1,\\\n",
    "                        wspace=0.4,hspace=0.85)\n",
    "    \n",
    "    for i in range(filter_count):\n",
    "        plt.subplot(dim, dim, i+1)\n",
    "        plt.title('Filter ' + str(i))\n",
    "        plt.imshow(conv_output[0,:,:,i], interpolation=\"nearest\", cmap=\"gray\")        \n",
    "        plt.axis([0, filter_size-1, 0, filter_size-1])\n",
    "        plt.xticks([0,filter_size//2,filter_size-1])\n",
    "        plt.gca().invert_yaxis()\n",
    "        \n",
    "    fig.text(0.3, 1.25, \"Output of Convolution Layer  \" + str(layer_num))"
   ]
  },
  {
   "cell_type": "code",
   "execution_count": 25,
   "metadata": {
    "collapsed": true
   },
   "outputs": [],
   "source": [
    "# Function to visualize weights of convolution layer\n",
    "\n",
    "def visualize_weight_output(weight, layer_num, ignore):\n",
    "\n",
    "    filter_size = weight.shape[0]\n",
    "    filter_count = weight.shape[-1]\n",
    "    dim = math.ceil(math.sqrt(filter_count))\n",
    "\n",
    "    fig = plt.figure(2, figsize=(dim,dim))\n",
    "    fig.subplots_adjust(left=0.125, bottom=0.1, right=1.25, top=1.1,\\\n",
    "                        wspace=0.4,hspace=0.85)\n",
    "\n",
    "    for i in range(filter_count):\n",
    "\n",
    "        plt.subplot(dim, dim, i+1)\n",
    "        plt.title('Filter ' + str(i))\n",
    "        \n",
    "        if ignore == True:\n",
    "            plt.imshow(weight[:,:,i], interpolation=\"nearest\", cmap=\"gray\")\n",
    "        else:\n",
    "            plt.imshow(weight[0,:,:,i], interpolation=\"nearest\", cmap=\"gray\")\n",
    "        \n",
    "        plt.axis([0, filter_size-1, 0, filter_size-1])\n",
    "        plt.xticks([0,filter_size//2,filter_size-1])\n",
    "        plt.gca().invert_yaxis()\n",
    "\n",
    "    fig.text(0.25, 1.25, \"Weights of Convolution Layer  \" + str(layer_num))"
   ]
  },
  {
   "cell_type": "code",
   "execution_count": 26,
   "metadata": {},
   "outputs": [
    {
     "data": {
      "image/png": "[encoded data removed]",
      "text/plain": [
       "<matplotlib.figure.Figure at 0x7ff669b08a90>"
      ]
     },
     "metadata": {},
     "output_type": "display_data"
    }
   ],
   "source": [
    "# Visualize Output of Convolution Layer 1\n",
    "\n",
    "conv_output_1 = get_conv_output(best_model, 0, 0)\n",
    "visualize_convolution_output(conv_output_1, 1)"
   ]
  },
  {
   "cell_type": "code",
   "execution_count": 27,
   "metadata": {},
   "outputs": [
    {
     "data": {
      "image/png": "[encoded data removed]",
      "text/plain": [
       "<matplotlib.figure.Figure at 0x7ff66d993e48>"
      ]
     },
     "metadata": {},
     "output_type": "display_data"
    }
   ],
   "source": [
    "# Visualize Weight of Convolution Layer 1\n",
    "\n",
    "weight_output_1 = get_weight_output(best_model, 0, True)\n",
    "visualize_weight_output(weight_output_1, 1, True)"
   ]
  },
  {
   "cell_type": "code",
   "execution_count": 28,
   "metadata": {},
   "outputs": [
    {
     "data": {
      "image/png": "[encoded data removed]",
      "text/plain": [
       "<matplotlib.figure.Figure at 0x7ff6386aa748>"
      ]
     },
     "metadata": {},
     "output_type": "display_data"
    }
   ],
   "source": [
    "# Visualize Output of Convolution Layer 2\n",
    "\n",
    "conv_output_2 = get_conv_output(best_model, 0, 2)\n",
    "visualize_convolution_output(conv_output_2, 2)"
   ]
  },
  {
   "cell_type": "code",
   "execution_count": 29,
   "metadata": {},
   "outputs": [
    {
     "data": {
      "image/png": "[encoded data removed]",
      "text/plain": [
       "<matplotlib.figure.Figure at 0x7ff5e9f13908>"
      ]
     },
     "metadata": {},
     "output_type": "display_data"
    }
   ],
   "source": [
    "# Visualize Weight of Convolution Layer 2\n",
    "\n",
    "weight_output_2 = get_weight_output(best_model, 2, False)\n",
    "visualize_weight_output(weight_output_2, 2, False)"
   ]
  }
 ],
 "metadata": {
  "kernelspec": {
   "display_name": "Python 3",
   "language": "python",
   "name": "python3"
  },
  "language_info": {
   "codemirror_mode": {
    "name": "ipython",
    "version": 3
   },
   "file_extension": ".py",
   "mimetype": "text/x-python",
   "name": "python",
   "nbconvert_exporter": "python",
   "pygments_lexer": "ipython3",
   "version": "3.6.1"
  }
 },
 "nbformat": 4,
 "nbformat_minor": 2
}
