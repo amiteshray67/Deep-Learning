{
 "cells": [
  {
   "cell_type": "markdown",
   "metadata": {},
   "source": [
    "### Task Details\n",
    "\n",
    "*Come up with a GENERAL learning rate decay strategy for deep learning* \n",
    "\n",
    "It will be based off of the last script of *cats and dogs*. A good final report will document the approach, the experimentation and the blog post/notebook. \n",
    "\n",
    "Reference Link\n",
    "http://machinelearningmastery.com/using-learning-rate-schedules-deep-learning-models-python-keras/"
   ]
  },
  {
   "cell_type": "code",
   "execution_count": 1,
   "metadata": {
    "collapsed": false
   },
   "outputs": [
    {
     "name": "stderr",
     "output_type": "stream",
     "text": [
      "Using TensorFlow backend.\n"
     ]
    }
   ],
   "source": [
    "import keras\n",
    "from keras import backend as K\n",
    "from keras.datasets import cifar10\n",
    "\n",
    "#----------------------------------------------------------\n",
    "\n",
    "from keras.models import Sequential\n",
    "from keras.layers import Conv2D, MaxPooling2D\n",
    "from keras.layers import Dense, Dropout, Flatten\n",
    "from keras.callbacks import LearningRateScheduler\n",
    "\n",
    "#----------------------------------------------------------\n",
    "\n",
    "import math\n",
    "import warnings\n",
    "import numpy as np\n",
    "\n",
    "#----------------------------------------------------------\n",
    "\n",
    "from skimage.io import imread\n",
    "from skimage import exposure, color\n",
    "from skimage import data, img_as_float\n",
    "\n",
    "#----------------------------------------------------------\n",
    "\n",
    "import matplotlib\n",
    "%matplotlib inline  \n",
    "import matplotlib.pyplot as plt"
   ]
  },
  {
   "cell_type": "markdown",
   "metadata": {},
   "source": [
    "### Load Data - CIFAR "
   ]
  },
  {
   "cell_type": "code",
   "execution_count": 2,
   "metadata": {
    "collapsed": false
   },
   "outputs": [],
   "source": [
    "# Initialize Training Parameters\n",
    "epochs = 10\n",
    "num_classes = 2\n",
    "batch_size = 64\n",
    "\n",
    "# input image dimensions\n",
    "img_rows, img_cols = 32, 32   \n",
    "\n",
    "# the data, shuffled and split between train and test sets\n",
    "(x_train, y_train), (x_test, y_test) = cifar10.load_data()   \n",
    "\n",
    "# Only look at cats [=3] and dogs [=5]\n",
    "train_picks = np.ravel(np.logical_or(y_train==3,y_train==5))  \n",
    "test_picks = np.ravel(np.logical_or(y_test==3,y_test==5))     \n",
    "\n",
    "# Initialize training and test data corresponding to 3s and 5s\n",
    "y_train = np.array(y_train[train_picks]==5,dtype=int)\n",
    "y_test = np.array(y_test[test_picks]==5,dtype=int)\n",
    "\n",
    "x_train = x_train[train_picks]\n",
    "x_test = x_test[test_picks]"
   ]
  },
  {
   "cell_type": "markdown",
   "metadata": {},
   "source": [
    "### Preprocess - Image Samples"
   ]
  },
  {
   "cell_type": "code",
   "execution_count": 3,
   "metadata": {
    "collapsed": true
   },
   "outputs": [],
   "source": [
    "# Convert test and training data to Tensor\n",
    "\n",
    "if K.image_data_format() == 'channels_first':\n",
    "    x_train = x_train.reshape(x_train.shape[0], 3, img_rows, img_cols)\n",
    "    x_test = x_test.reshape(x_test.shape[0], 3, img_rows, img_cols)\n",
    "    input_shape = (3, img_rows, img_cols)\n",
    "else:\n",
    "    x_train = x_train.reshape(x_train.shape[0], img_rows, img_cols, 3)\n",
    "    x_test = x_test.reshape(x_test.shape[0], img_rows, img_cols, 3)\n",
    "    input_shape = (img_rows, img_cols, 3)\n",
    "  "
   ]
  },
  {
   "cell_type": "code",
   "execution_count": 4,
   "metadata": {
    "collapsed": true
   },
   "outputs": [],
   "source": [
    "# convert class vectors to binary class matrices\n",
    "y_train = keras.utils.to_categorical(np.ravel(y_train), num_classes)\n",
    "y_test = keras.utils.to_categorical(np.ravel(y_test), num_classes)"
   ]
  },
  {
   "cell_type": "code",
   "execution_count": 5,
   "metadata": {
    "collapsed": true
   },
   "outputs": [],
   "source": [
    "# Normalize test and training data\n",
    "x_train = x_train.astype('float32')\n",
    "x_test = x_test.astype('float32')\n",
    "\n",
    "x_train /= 255\n",
    "x_test /= 255"
   ]
  },
  {
   "cell_type": "code",
   "execution_count": 6,
   "metadata": {
    "collapsed": false
   },
   "outputs": [
    {
     "name": "stdout",
     "output_type": "stream",
     "text": [
      "x_train shape: (10000, 32, 32, 3)\n",
      "10000 train samples\n",
      "2000 test samples\n"
     ]
    }
   ],
   "source": [
    "# Display Train and Test Sample Count\n",
    "print('x_train shape:', x_train.shape)\n",
    "print(x_train.shape[0], 'train samples')\n",
    "print(x_test.shape[0], 'test samples')"
   ]
  },
  {
   "cell_type": "markdown",
   "metadata": {},
   "source": [
    "### Define - ConvNet Architecture"
   ]
  },
  {
   "cell_type": "code",
   "execution_count": 7,
   "metadata": {
    "collapsed": true
   },
   "outputs": [],
   "source": [
    "model = Sequential()\n",
    "model.add(Conv2D(4, kernel_size=(3, 3),activation='relu',input_shape=input_shape))\n",
    "model.add(Conv2D(8, (3, 3), activation='relu'))\n",
    "model.add(MaxPooling2D(pool_size=(2, 2)))\n",
    "model.add(Dropout(0.25))\n",
    "model.add(Flatten())\n",
    "model.add(Dense(16, activation='relu'))\n",
    "model.add(Dropout(0.5))\n",
    "model.add(Dense(2, activation='softmax'))"
   ]
  },
  {
   "cell_type": "markdown",
   "metadata": {},
   "source": [
    "### Function - Compute Decaying Learning Rate"
   ]
  },
  {
   "cell_type": "code",
   "execution_count": 8,
   "metadata": {
    "collapsed": true
   },
   "outputs": [],
   "source": [
    "decay_rate = []\n",
    "\n",
    "drop = 0.5\n",
    "epochs_drop = 1.0\n",
    "initial_lrate = 0.1\n",
    "\n",
    "def step_decay(epoch):\n",
    "    \n",
    "    # LearningRate = InitialLearningRate * DropRate^floor(Epoch / EpochDrop)\n",
    "    lrate = initial_lrate * math.pow(drop, math.floor((1+epoch)/epochs_drop))\n",
    "    \n",
    "    # Store the decaying learning rate in a list\n",
    "    decay_rate.append(lrate)\n",
    "    \n",
    "    return lrate "
   ]
  },
  {
   "cell_type": "markdown",
   "metadata": {},
   "source": [
    "### Initialize - Tratinng Parameters"
   ]
  },
  {
   "cell_type": "code",
   "execution_count": 9,
   "metadata": {
    "collapsed": true
   },
   "outputs": [],
   "source": [
    "# Initialize Learning Rate Scheduler Callback\n",
    "lrate = LearningRateScheduler(step_decay)\n",
    "\n",
    "# Initialize CNN Model\n",
    "model.compile(loss=keras.losses.categorical_crossentropy,\n",
    "              optimizer=keras.optimizers.Adadelta(),\n",
    "              metrics=['accuracy'])"
   ]
  },
  {
   "cell_type": "markdown",
   "metadata": {},
   "source": [
    "### Train Model"
   ]
  },
  {
   "cell_type": "code",
   "execution_count": 10,
   "metadata": {
    "collapsed": false
   },
   "outputs": [
    {
     "name": "stdout",
     "output_type": "stream",
     "text": [
      "Run Regular Training\n",
      "Train on 10000 samples, validate on 2000 samples\n",
      "Epoch 1/10\n",
      "8s - loss: 0.7222 - acc: 0.5041 - val_loss: 0.6910 - val_acc: 0.5280\n",
      "Epoch 2/10\n",
      "8s - loss: 0.7014 - acc: 0.5110 - val_loss: 0.6921 - val_acc: 0.5235\n",
      "Epoch 3/10\n",
      "8s - loss: 0.7011 - acc: 0.5102 - val_loss: 0.6922 - val_acc: 0.5230\n",
      "Epoch 4/10\n",
      "9s - loss: 0.7001 - acc: 0.5051 - val_loss: 0.6922 - val_acc: 0.5235\n",
      "Epoch 5/10\n",
      "8s - loss: 0.6990 - acc: 0.5053 - val_loss: 0.6922 - val_acc: 0.5260\n",
      "Epoch 6/10\n",
      "8s - loss: 0.6978 - acc: 0.5188 - val_loss: 0.6921 - val_acc: 0.5255\n",
      "Epoch 7/10\n",
      "8s - loss: 0.6966 - acc: 0.5160 - val_loss: 0.6921 - val_acc: 0.5245\n",
      "Epoch 8/10\n",
      "8s - loss: 0.6969 - acc: 0.5137 - val_loss: 0.6921 - val_acc: 0.5250\n",
      "Epoch 9/10\n",
      "8s - loss: 0.6977 - acc: 0.5102 - val_loss: 0.6921 - val_acc: 0.5245\n",
      "Epoch 10/10\n",
      "8s - loss: 0.6975 - acc: 0.5100 - val_loss: 0.6921 - val_acc: 0.5250\n"
     ]
    }
   ],
   "source": [
    "print(\"Run Regular Training\")\n",
    "history = model.fit(x_train, y_train,                \n",
    "                verbose=2,\n",
    "                epochs=epochs,\n",
    "                batch_size=batch_size,\n",
    "                validation_data=(x_test, y_test),\n",
    "                callbacks=[lrate])"
   ]
  },
  {
   "cell_type": "markdown",
   "metadata": {},
   "source": [
    "### Visualize - Accuracy vs Epochs"
   ]
  },
  {
   "cell_type": "code",
   "execution_count": 11,
   "metadata": {
    "collapsed": false
   },
   "outputs": [
    {
     "data": {
      "text/plain": [
       "<matplotlib.text.Text at 0x183e50205c0>"
      ]
     },
     "execution_count": 11,
     "metadata": {},
     "output_type": "execute_result"
    },
    {
     "data": {
      "image/png": "[encoded data removed]",
      "text/plain": [
       "<matplotlib.figure.Figure at 0x183e4e69b70>"
      ]
     },
     "metadata": {},
     "output_type": "display_data"
    }
   ],
   "source": [
    "plt.plot(history.epoch,history.history['val_acc'], '-o', label='validation')\n",
    "plt.plot(history.epoch,history.history['acc'], '-o', label='training')\n",
    "\n",
    "plt.grid(True)\n",
    "plt.legend(loc=0)\n",
    "\n",
    "plt.xlabel('Epochs')\n",
    "plt.ylabel('Accuracy')\n",
    "plt.title('Accuracy vs Epochs')"
   ]
  },
  {
   "cell_type": "markdown",
   "metadata": {},
   "source": [
    "### Visualize - Loss vs Epochs"
   ]
  },
  {
   "cell_type": "code",
   "execution_count": 12,
   "metadata": {
    "collapsed": false
   },
   "outputs": [
    {
     "data": {
      "text/plain": [
       "<matplotlib.text.Text at 0x183e508e588>"
      ]
     },
     "execution_count": 12,
     "metadata": {},
     "output_type": "execute_result"
    },
    {
     "data": {
      "image/png": "[encoded data removed]",
      "text/plain": [
       "<matplotlib.figure.Figure at 0x183e4fe6588>"
      ]
     },
     "metadata": {},
     "output_type": "display_data"
    }
   ],
   "source": [
    "plt.plot(history.epoch,history.history['val_loss'],'-o',label='validation')\n",
    "plt.plot(history.epoch,history.history['loss'],'-o',label='training')\n",
    "\n",
    "plt.grid(True)\n",
    "plt.legend(loc=0)\n",
    "\n",
    "plt.ylabel('Loss')\n",
    "plt.xlabel('Epochs')\n",
    "plt.title('Loss vs Epochs')"
   ]
  },
  {
   "cell_type": "markdown",
   "metadata": {},
   "source": [
    "### Visualize - Learning Rate vs Epochs"
   ]
  },
  {
   "cell_type": "code",
   "execution_count": 13,
   "metadata": {
    "collapsed": false
   },
   "outputs": [
    {
     "data": {
      "text/plain": [
       "<matplotlib.text.Text at 0x183e510f048>"
      ]
     },
     "execution_count": 13,
     "metadata": {},
     "output_type": "execute_result"
    },
    {
     "data": {
      "image/png": "[encoded data removed]",
      "text/plain": [
       "<matplotlib.figure.Figure at 0x183e4e69710>"
      ]
     },
     "metadata": {},
     "output_type": "display_data"
    }
   ],
   "source": [
    "plt.plot(history.epoch, decay_rate,'-o')\n",
    "\n",
    "plt.grid(True)\n",
    "plt.xlabel('Epochs')\n",
    "plt.ylabel('Learning Rate')\n",
    "plt.title('Learning Rate vs Epochs')"
   ]
  },
  {
   "cell_type": "code",
   "execution_count": 14,
   "metadata": {
    "collapsed": false
   },
   "outputs": [
    {
     "name": "stdout",
     "output_type": "stream",
     "text": [
      "loss\n",
      "acc\n",
      "val_loss\n",
      "val_acc\n"
     ]
    }
   ],
   "source": [
    "for i in history.history:\n",
    "    print(i)"
   ]
  }
 ],
 "metadata": {
  "anaconda-cloud": {},
  "kernelspec": {
   "display_name": "Python [Root]",
   "language": "python",
   "name": "Python [Root]"
  },
  "language_info": {
   "codemirror_mode": {
    "name": "ipython",
    "version": 3
   },
   "file_extension": ".py",
   "mimetype": "text/x-python",
   "name": "python",
   "nbconvert_exporter": "python",
   "pygments_lexer": "ipython3",
   "version": "3.5.2"
  }
 },
 "nbformat": 4,
 "nbformat_minor": 2
}
